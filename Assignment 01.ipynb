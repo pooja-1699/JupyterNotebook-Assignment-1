{
 "cells": [
  {
   "cell_type": "markdown",
   "metadata": {},
   "source": [
    "### Trial Question:\n",
    "Write command to print \"Good morning\""
   ]
  },
  {
   "cell_type": "code",
   "execution_count": 11,
   "metadata": {},
   "outputs": [
    {
     "name": "stdout",
     "output_type": "stream",
     "text": [
      "Good morning\n"
     ]
    }
   ],
   "source": [
    "# Answer (write code below):\n",
    "print(\"Good morning\")"
   ]
  },
  {
   "cell_type": "markdown",
   "metadata": {},
   "source": [
    "### Question 1:\n",
    "Write one for loop to print out each character of the string my_str on a separate line."
   ]
  },
  {
   "cell_type": "code",
   "execution_count": 12,
   "metadata": {},
   "outputs": [],
   "source": [
    "my_str = \"Thakur College\""
   ]
  },
  {
   "cell_type": "code",
   "execution_count": 13,
   "metadata": {},
   "outputs": [],
   "source": [
    "# Answer (write code below):\n",
    "my_str = \"Thakur College\"\n",
    "for i in my_str:\n",
    "    print(i)\n",
    "\n"
   ]
  },
  {
   "cell_type": "markdown",
   "metadata": {},
   "source": [
    "### Question 2:\n",
    "Write one for loop to print out each element of the list several_things. Then, write another for loop to print out the TYPE of each element of the list several_things. To complete this problem you should have written two different for loops, each of which iterates over the list several_things, but each of those 2 for loops should have a different result."
   ]
  },
  {
   "cell_type": "code",
   "execution_count": 14,
   "metadata": {},
   "outputs": [],
   "source": [
    "several_things = [\"hello\", 2, 4, 6.0, 7.5, 234352354, \"the end\", \"\", 99]"
   ]
  },
  {
   "cell_type": "code",
   "execution_count": 15,
   "metadata": {},
   "outputs": [],
   "source": [
    "# Answer (write code below):\n",
    "several_things = [\"hello\", 2, 4, 6.0, 7.5, 234352354, \"the end\", \"\", 99]\n",
    "for i in several_things:\n",
    "    print(i)\n",
    "for j in several_things:\n",
    "    print(type(j))\n"
   ]
  },
  {
   "cell_type": "markdown",
   "metadata": {},
   "source": [
    "### Question 3:\n",
    "Write code that uses iteration to print out the length of each element of the list stored in str_list."
   ]
  },
  {
   "cell_type": "code",
   "execution_count": 16,
   "metadata": {},
   "outputs": [],
   "source": [
    "str_list = [\"hello\", \"\", \"goodbye\", \"wonderful\", \"I love Python\"]"
   ]
  },
  {
   "cell_type": "code",
   "execution_count": 17,
   "metadata": {},
   "outputs": [],
   "source": [
    "# Answer:\n",
    "str_list = [\"hello\", \"\", \"goodbye\", \"wonderful\", \"I love Python\"]\n",
    "for i in str_list:\n",
    "    print(len(i))\n"
   ]
  },
  {
   "cell_type": "markdown",
   "metadata": {},
   "source": [
    "### Question 4:\n",
    "Write code to count the number of characters in original_str using the accumulation pattern and assign the answer to a variable num_chars. Do NOT use the len function to solve the problem (if you use it while you are working on this problem, comment it out afterward!)"
   ]
  },
  {
   "cell_type": "code",
   "execution_count": 18,
   "metadata": {},
   "outputs": [],
   "source": [
    "original_str = \"The quick brown rhino jumped over the extremely lazy fox.\""
   ]
  },
  {
   "cell_type": "code",
   "execution_count": 19,
   "metadata": {},
   "outputs": [],
   "source": [
    "# Answer (write code below):\n",
    "original_str = \"The quick brown rhino jumped over the extremely lazy fox.\"\n",
    "num_chars=0\n",
    "for i in original_str:\n",
    "    num_chars+=1\n",
    "print(num_chars)"
   ]
  },
  {
   "cell_type": "markdown",
   "metadata": {},
   "source": [
    "### Question 5:\n",
    "addition_str is a string with a list of numbers separated by the + sign. Write code that uses the accumulation pattern to take the sum of all of the numbers and assigns it to sum_val (an integer). (You should use the .split(\"+\") function to split by \"+\" and int() to cast to an integer)."
   ]
  },
  {
   "cell_type": "code",
   "execution_count": 20,
   "metadata": {},
   "outputs": [],
   "source": [
    "addition_str = \"2+5+10+20\""
   ]
  },
  {
   "cell_type": "code",
   "execution_count": 21,
   "metadata": {},
   "outputs": [],
   "source": [
    "# Answer (write code below):\n",
    "addition_str = \"2+5+10+20\"\n",
    "x=addition_str.split('+')\n",
    "sum_val=0\n",
    "for i in x:\n",
    "    sum_val+=int(i)\n",
    "print(\"Addition is\",sum_val)\n"
   ]
  },
  {
   "cell_type": "markdown",
   "metadata": {},
   "source": [
    "### Question 6:\n",
    "week_temps_f is a string with a list of fahrenheit temperatures separated by the , sign. Write code that uses the accumulation pattern to compute the average (sum divided by number of items) and assigns it to avg_temp. Do not hard code your answer (i.e., make your code compute both the sum or the number of items in week_temps_f) (You should use the .split(\",\") function to split by \",\" and float() to cast to a float)."
   ]
  },
  {
   "cell_type": "code",
   "execution_count": 22,
   "metadata": {},
   "outputs": [],
   "source": [
    "week_temps_f = \"75.1,77.7,83.2,82.5,81.0,79.5,85.7\""
   ]
  },
  {
   "cell_type": "code",
   "execution_count": 23,
   "metadata": {},
   "outputs": [],
   "source": [
    "# Answer (write code below):\n",
    "week_temps_f = \"75.1,77.7,83.2,82.5,81.0,79.5,85.7\"\n",
    "x=week_temps_f.split(',')\n",
    "sum_val=0\n",
    "for i in x:\n",
    "    sum_val+=float(i)\n",
    "avg_temp=sum_val/len(x)\n",
    "print(\"Average is \",avg_temp)\n"
   ]
  },
  {
   "cell_type": "markdown",
   "metadata": {},
   "source": [
    "### Question 7:\n",
    "Write code to create a list of numbers from 0 to 67 and assign that list to the variable nums. Do not hard code the list."
   ]
  },
  {
   "cell_type": "code",
   "execution_count": 24,
   "metadata": {},
   "outputs": [],
   "source": [
    "# Answer (write code below):\n",
    "nums=[]\n",
    "for i in range(0,68):\n",
    "    nums.append(i)\n",
    "print(nums)\n"
   ]
  },
  {
   "cell_type": "markdown",
   "metadata": {},
   "source": [
    "### Question 8:\n",
    "Write code to create a list of word lengths for the words in original_str using the accumulation pattern and assign the answer to a variable num_words_list. (You should use the len function)."
   ]
  },
  {
   "cell_type": "code",
   "execution_count": 25,
   "metadata": {},
   "outputs": [],
   "source": [
    "original_str = \"The quick brown rhino jumped over the extremely lazy fox\""
   ]
  },
  {
   "cell_type": "code",
   "execution_count": 26,
   "metadata": {},
   "outputs": [],
   "source": [
    "# Answer (write code below):\n",
    "original_str = \"The quick brown rhino jumped over the extremely lazy fox\"\n",
    "x=original_str.split(\" \")\n",
    "num_words_list=[]\n",
    "for i in x:\n",
    "    num_words_list.append(len(i))\n",
    "print(num_words_list)"
   ]
  },
  {
   "cell_type": "markdown",
   "metadata": {},
   "source": [
    "### Question 9:\n",
    "Create an empty string and assign it to the variable lett. Then using range, write code such that when your code is run, lett has 7 b’s (\"bbbbbbb\")."
   ]
  },
  {
   "cell_type": "code",
   "execution_count": 27,
   "metadata": {},
   "outputs": [],
   "source": [
    "# Answer (write code below):\n",
    "lett = ''\n",
    "for i in range (7):\n",
    "    lett+=\"b\"\n",
    "print(lett)\n"
   ]
  }
 ],
 "metadata": {
  "kernelspec": {
   "display_name": "Python 3",
   "language": "python",
   "name": "python3"
  },
  "language_info": {
   "codemirror_mode": {
    "name": "ipython",
    "version": 3
   },
   "file_extension": ".py",
   "mimetype": "text/x-python",
   "name": "python",
   "nbconvert_exporter": "python",
   "pygments_lexer": "ipython3",
   "version": "3.7.3"
  }
 },
 "nbformat": 4,
 "nbformat_minor": 4
}
